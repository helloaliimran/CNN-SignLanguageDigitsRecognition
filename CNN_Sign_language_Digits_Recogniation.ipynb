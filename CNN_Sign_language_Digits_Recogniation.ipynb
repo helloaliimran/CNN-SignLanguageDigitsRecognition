{
  "nbformat": 4,
  "nbformat_minor": 0,
  "metadata": {
    "colab": {
      "name": "CNN-Sign-language-Digits-Recogniation.ipynb",
      "provenance": [],
      "collapsed_sections": [],
      "mount_file_id": "1dv1DhJG9rxrszKp_v2K833I3UaleifWV",
      "authorship_tag": "ABX9TyOQJ8ygnkiH7uQpZes5cW3B",
      "include_colab_link": true
    },
    "kernelspec": {
      "name": "python3",
      "display_name": "Python 3"
    }
  },
  "cells": [
    {
      "cell_type": "markdown",
      "metadata": {
        "id": "view-in-github",
        "colab_type": "text"
      },
      "source": [
        "<a href=\"https://colab.research.google.com/github/helloaliimran/CNN-SignLanguageDigitsRecognition/blob/master/CNN_Sign_language_Digits_Recogniation.ipynb\" target=\"_parent\"><img src=\"https://colab.research.google.com/assets/colab-badge.svg\" alt=\"Open In Colab\"/></a>"
      ]
    },
    {
      "cell_type": "code",
      "metadata": {
        "id": "QPKKtoO_ZKcc",
        "colab_type": "code",
        "outputId": "be63f50a-a5ed-4b1a-9b35-ab82dbbf2f26",
        "colab": {
          "base_uri": "https://localhost:8080/",
          "height": 34
        }
      },
      "source": [
        "import numpy as np\n",
        "import matplotlib.pyplot as plt\n",
        "from sklearn.model_selection import train_test_split\n",
        "\n",
        "from keras.models import Sequential\n",
        "from keras import layers\n",
        "from keras import optimizers\n",
        "from keras.callbacks import EarlyStopping"
      ],
      "execution_count": 2,
      "outputs": [
        {
          "output_type": "stream",
          "text": [
            "Using TensorFlow backend.\n"
          ],
          "name": "stderr"
        }
      ]
    },
    {
      "cell_type": "code",
      "metadata": {
        "id": "wMTw9JIcrV2F",
        "colab_type": "code",
        "colab": {}
      },
      "source": [
        "from keras.layers import Dense, Flatten\n",
        "from keras.layers import Conv2D, MaxPooling2D\n"
      ],
      "execution_count": 0,
      "outputs": []
    },
    {
      "cell_type": "code",
      "metadata": {
        "id": "lT67NODHbO7G",
        "colab_type": "code",
        "colab": {}
      },
      "source": [
        "#Load Images\n",
        "X = np.load(\"/content/drive/My Drive/Colab Notebooks/Sign-language-digits-dataset/X.npy\")\n",
        "#Data is 2062 x 64 x 64 matrix\n",
        "\n",
        "#input image dimensions\n",
        "img_x, img_y = 64, 64\n",
        "\n",
        "#Load labels - One hot encoded: 2062 x 10\n",
        "Y = np.load(\"/content/drive/My Drive/Colab Notebooks/Sign-language-digits-dataset/Y.npy\")\n",
        "\n",
        "#spliting data in to train and test\n",
        "x_train, x_test, y_train, y_test= train_test_split(X,Y,test_size=0.3)\n"
      ],
      "execution_count": 0,
      "outputs": []
    },
    {
      "cell_type": "code",
      "metadata": {
        "id": "mCqiU3sxZQ2v",
        "colab_type": "code",
        "colab": {
          "base_uri": "https://localhost:8080/",
          "height": 85
        },
        "outputId": "4f0237d3-78af-49d2-937a-279c1bed38f6"
      },
      "source": [
        "print(X.shape)\n",
        "print(Y.shape)\n",
        "print(x_train.shape)\n",
        "print(y_train.shape)"
      ],
      "execution_count": 24,
      "outputs": [
        {
          "output_type": "stream",
          "text": [
            "(2062, 64, 64)\n",
            "(2062, 10)\n",
            "(1443, 64, 64)\n",
            "(1443, 10)\n"
          ],
          "name": "stdout"
        }
      ]
    },
    {
      "cell_type": "code",
      "metadata": {
        "colab_type": "code",
        "outputId": "588b56f6-56c0-4ba6-b636-b5044dbdbe16",
        "id": "DF5cE8FAY0o1",
        "colab": {
          "base_uri": "https://localhost:8080/",
          "height": 51
        }
      },
      "source": [
        "print(y_train.shape)\n",
        "print(x_train.shape)"
      ],
      "execution_count": 8,
      "outputs": [
        {
          "output_type": "stream",
          "text": [
            "(1443, 10, 10)\n",
            "(1443, 64, 64)\n"
          ],
          "name": "stdout"
        }
      ]
    },
    {
      "cell_type": "code",
      "metadata": {
        "id": "SnhSXOCMbd2Z",
        "colab_type": "code",
        "outputId": "d2be4b44-f57d-4dc7-d0e2-c1b4c9ca27c8",
        "colab": {
          "base_uri": "https://localhost:8080/",
          "height": 167
        }
      },
      "source": [
        "sample_image = X[0,:,:]\n",
        "plt.subplot(221)\n",
        "plt.imshow(sample_image, cmap=\"gray\")"
      ],
      "execution_count": 0,
      "outputs": [
        {
          "output_type": "execute_result",
          "data": {
            "text/plain": [
              "<matplotlib.image.AxesImage at 0x7f55271ce860>"
            ]
          },
          "metadata": {
            "tags": []
          },
          "execution_count": 4
        },
        {
          "output_type": "display_data",
          "data": {
            "image/png": "[encoded data removed]",
            "text/plain": [
              "<Figure size 432x288 with 1 Axes>"
            ]
          },
          "metadata": {
            "tags": [],
            "needs_background": "light"
          }
        }
      ]
    },
    {
      "cell_type": "code",
      "metadata": {
        "id": "ilFk0Yz8bkAh",
        "colab_type": "code",
        "colab": {}
      },
      "source": [
        "sample_image = X[1000,:,:]\n",
        "plt.subplot(223)\n",
        "plt.xlabel(Y)\n",
        "plt.imshow(sample_image, cmap=\"gray\")"
      ],
      "execution_count": 0,
      "outputs": []
    },
    {
      "cell_type": "code",
      "metadata": {
        "id": "UG7nzVd4bkaa",
        "colab_type": "code",
        "colab": {}
      },
      "source": [
        "sample_image = X[2000,:,:]\n",
        "plt.subplot(224)\n",
        "plt.imshow(sample_image, cmap=\"gray\")"
      ],
      "execution_count": 0,
      "outputs": []
    },
    {
      "cell_type": "code",
      "metadata": {
        "id": "D8t94-D_peb7",
        "colab_type": "code",
        "colab": {}
      },
      "source": [
        "#normalize data one hot encoding\n",
        "from keras.utils import to_categorical \n",
        "classes=10\n",
        "\n",
        "x_train=x_train.reshape(x_train.shape[0],img_x,img_y,1)\n",
        "x_test=x_test.reshape(x_test.shape[0],img_x,img_y,1)\n",
        "input_shape=(img_x,img_y,1)\n",
        "\n",
        "#y_test= to_categorical(y_test,classes)\n",
        "#y_train= to_categorical(y_train,classes)\n",
        "\n",
        "# x_train=x_train.astype(float)\n",
        "# x_test=x_test.astype(float)\n",
        "\n",
        "#x_train=x_train/255\n",
        "#x_test=x_test/255\n"
      ],
      "execution_count": 0,
      "outputs": []
    },
    {
      "cell_type": "code",
      "metadata": {
        "id": "lg1_SCWZ67Mm",
        "colab_type": "code",
        "outputId": "eb7c9c5e-6ba2-4752-cd02-ad4a73884863",
        "colab": {
          "base_uri": "https://localhost:8080/",
          "height": 51
        }
      },
      "source": [
        "print(y_train.shape)\n",
        "print(x_train.shape)"
      ],
      "execution_count": 26,
      "outputs": [
        {
          "output_type": "stream",
          "text": [
            "(1443, 10)\n",
            "(1443, 64, 64, 1)\n"
          ],
          "name": "stdout"
        }
      ]
    },
    {
      "cell_type": "code",
      "metadata": {
        "id": "JudyyDuTto-i",
        "colab_type": "code",
        "colab": {
          "base_uri": "https://localhost:8080/",
          "height": 357
        },
        "outputId": "a6be561b-b0e6-4dab-ef38-b71b5a172419"
      },
      "source": [
        "seed=10\n",
        "np.random.seed(seed)\n",
        "\n",
        "model = Sequential()\n",
        "model.add(Conv2D(64,kernel_size=(5,5),padding='same',activation='relu',input_shape=(64,64,1)))\n",
        "model.add(MaxPooling2D((2,2)))\n",
        "# model.add(Conv2D(64,(5,5),activation='relu'))\n",
        "# model.add(MaxPooling2D(pool_size=(2,2)))\n",
        "model.add(Flatten())\n",
        "model.add(Dense(128,activation='relu'))\n",
        "model.add(Dense(10,activation='softmax'))\n",
        "\n",
        "model.compile(loss='categorical_crossentropy',optimizer='adam',metrics=['accuracy'])\n",
        "history=  model.fit(x_train,y_train,batch_size=10,epochs=10,verbose=1)"
      ],
      "execution_count": 27,
      "outputs": [
        {
          "output_type": "stream",
          "text": [
            "Epoch 1/10\n",
            "1443/1443 [==============================] - 21s 15ms/step - loss: 2.5066 - accuracy: 0.1379\n",
            "Epoch 2/10\n",
            "1443/1443 [==============================] - 21s 15ms/step - loss: 1.7796 - accuracy: 0.4241\n",
            "Epoch 3/10\n",
            "1443/1443 [==============================] - 21s 15ms/step - loss: 0.9363 - accuracy: 0.7131\n",
            "Epoch 4/10\n",
            "1443/1443 [==============================] - 21s 15ms/step - loss: 0.5897 - accuracy: 0.8157\n",
            "Epoch 5/10\n",
            "1443/1443 [==============================] - 21s 15ms/step - loss: 0.4416 - accuracy: 0.8718\n",
            "Epoch 6/10\n",
            "1443/1443 [==============================] - 22s 15ms/step - loss: 0.3363 - accuracy: 0.8981\n",
            "Epoch 7/10\n",
            "1443/1443 [==============================] - 21s 15ms/step - loss: 0.2773 - accuracy: 0.9217\n",
            "Epoch 8/10\n",
            "1443/1443 [==============================] - 21s 15ms/step - loss: 0.2089 - accuracy: 0.9446\n",
            "Epoch 9/10\n",
            "1443/1443 [==============================] - 21s 15ms/step - loss: 0.1584 - accuracy: 0.9584\n",
            "Epoch 10/10\n",
            "1443/1443 [==============================] - 21s 15ms/step - loss: 0.1411 - accuracy: 0.9626\n"
          ],
          "name": "stdout"
        }
      ]
    },
    {
      "cell_type": "code",
      "metadata": {
        "id": "5Ey-cYOgmfb0",
        "colab_type": "code",
        "colab": {
          "base_uri": "https://localhost:8080/",
          "height": 295
        },
        "outputId": "f411ef34-f1f6-439f-e8d0-84fbd5ef3b2b"
      },
      "source": [
        "plt.plot(history.history['accuracy'])\n",
        "plt.plot(history.history['loss'])\n",
        "plt.title('model accuracy and loss')\n",
        "plt.xlabel('Epoch')\n",
        "plt.ylabel('accuracy/loss')\n",
        "plt.legend(['accuracy','loss'], loc='upper left')\n",
        "plt.show()"
      ],
      "execution_count": 28,
      "outputs": [
        {
          "output_type": "display_data",
          "data": {
            "image/png": "[encoded data removed]",
            "text/plain": [
              "<Figure size 432x288 with 1 Axes>"
            ]
          },
          "metadata": {
            "tags": [],
            "needs_background": "light"
          }
        }
      ]
    },
    {
      "cell_type": "code",
      "metadata": {
        "id": "vxL-N-x8pUwz",
        "colab_type": "code",
        "colab": {
          "base_uri": "https://localhost:8080/",
          "height": 635
        },
        "outputId": "d98bbcd3-66bf-41b6-ac6d-c8124f3d2749"
      },
      "source": [
        "model = Sequential()\n",
        "model.add(Conv2D(64,kernel_size=(5,5),padding='same',activation='relu',input_shape=(64,64,1)))\n",
        "model.add(MaxPooling2D((2,2)))\n",
        "model.add(Conv2D(128,(5,5),activation='relu'))\n",
        "model.add(MaxPooling2D(pool_size=(2,2)))\n",
        "model.add(Flatten())\n",
        "model.add(Dense(128,activation='relu'))\n",
        "model.add(Dense(10,activation='softmax'))\n",
        "\n",
        "model.compile(loss='categorical_crossentropy',optimizer='adam',metrics=['accuracy'])\n",
        "history=  model.fit(x_train,y_train,batch_size=10,epochs=10,verbose=1)\n",
        "\n",
        "plt.plot(history.history['accuracy'])\n",
        "plt.plot(history.history['loss'])\n",
        "plt.title('model accuracy and loss')\n",
        "plt.xlabel('Epoch')\n",
        "plt.ylabel('accuracy/loss')\n",
        "plt.legend(['accuracy','loss'], loc='upper left')\n",
        "plt.show()"
      ],
      "execution_count": 30,
      "outputs": [
        {
          "output_type": "stream",
          "text": [
            "Epoch 1/10\n",
            "1443/1443 [==============================] - 40s 28ms/step - loss: 2.1124 - accuracy: 0.2121\n",
            "Epoch 2/10\n",
            "1443/1443 [==============================] - 40s 28ms/step - loss: 0.7493 - accuracy: 0.7554\n",
            "Epoch 3/10\n",
            "1443/1443 [==============================] - 40s 28ms/step - loss: 0.4113 - accuracy: 0.8725\n",
            "Epoch 4/10\n",
            "1443/1443 [==============================] - 40s 28ms/step - loss: 0.2504 - accuracy: 0.9252\n",
            "Epoch 5/10\n",
            "1443/1443 [==============================] - 40s 28ms/step - loss: 0.1298 - accuracy: 0.9612\n",
            "Epoch 6/10\n",
            "1443/1443 [==============================] - 40s 28ms/step - loss: 0.0828 - accuracy: 0.9813\n",
            "Epoch 7/10\n",
            "1443/1443 [==============================] - 40s 28ms/step - loss: 0.0384 - accuracy: 0.9924\n",
            "Epoch 8/10\n",
            "1443/1443 [==============================] - 40s 28ms/step - loss: 0.0203 - accuracy: 0.9945\n",
            "Epoch 9/10\n",
            "1443/1443 [==============================] - 40s 28ms/step - loss: 0.0091 - accuracy: 0.9986\n",
            "Epoch 10/10\n",
            "1443/1443 [==============================] - 40s 28ms/step - loss: 0.0024 - accuracy: 1.0000\n"
          ],
          "name": "stdout"
        },
        {
          "output_type": "display_data",
          "data": {
            "image/png": "[encoded data removed]",
            "text/plain": [
              "<Figure size 432x288 with 1 Axes>"
            ]
          },
          "metadata": {
            "tags": [],
            "needs_background": "light"
          }
        }
      ]
    },
    {
      "cell_type": "code",
      "metadata": {
        "id": "RAhd4UOWs6rX",
        "colab_type": "code",
        "colab": {
          "base_uri": "https://localhost:8080/",
          "height": 1000
        },
        "outputId": "2fef5f7c-47f1-4373-e6e7-56b9d415015e"
      },
      "source": [
        "model = Sequential()\n",
        "model.add(Conv2D(64,kernel_size=(5,5),padding='same',activation='relu',input_shape=(64,64,1)))\n",
        "model.add(MaxPooling2D((2,2)))\n",
        "model.add(Conv2D(128,(5,5),activation='relu'))\n",
        "model.add(MaxPooling2D(pool_size=(2,2)))\n",
        "model.add(Flatten())\n",
        "model.add(Dense(128,activation='relu'))\n",
        "model.add(Dense(10,activation='softmax'))\n",
        "model.compile(loss='categorical_crossentropy',optimizer='adam',metrics=['accuracy'])\n",
        "history=  model.fit(x_train,y_train,batch_size=128,epochs=50,verbose=1)\n",
        "plt.plot(history.history['accuracy'])\n",
        "plt.plot(history.history['loss'])\n",
        "plt.title('model accuracy and loss')\n",
        "plt.xlabel('Epoch')\n",
        "plt.ylabel('accuracy/loss')\n",
        "plt.legend(['accuracy','loss'], loc='upper left')\n",
        "plt.show()"
      ],
      "execution_count": 31,
      "outputs": [
        {
          "output_type": "stream",
          "text": [
            "Epoch 1/50\n",
            "1443/1443 [==============================] - 34s 24ms/step - loss: 2.3788 - accuracy: 0.1074\n",
            "Epoch 2/50\n",
            "1443/1443 [==============================] - 34s 23ms/step - loss: 2.2896 - accuracy: 0.2058\n",
            "Epoch 3/50\n",
            "1443/1443 [==============================] - 34s 23ms/step - loss: 2.1402 - accuracy: 0.3001\n",
            "Epoch 4/50\n",
            "1443/1443 [==============================] - 34s 24ms/step - loss: 1.5942 - accuracy: 0.5405\n",
            "Epoch 5/50\n",
            "1443/1443 [==============================] - 34s 24ms/step - loss: 1.0612 - accuracy: 0.6334\n",
            "Epoch 6/50\n",
            "1443/1443 [==============================] - 34s 24ms/step - loss: 0.8177 - accuracy: 0.7200\n",
            "Epoch 7/50\n",
            "1443/1443 [==============================] - 34s 24ms/step - loss: 0.6738 - accuracy: 0.7782\n",
            "Epoch 8/50\n",
            "1443/1443 [==============================] - 34s 24ms/step - loss: 0.5896 - accuracy: 0.8143\n",
            "Epoch 9/50\n",
            "1443/1443 [==============================] - 34s 24ms/step - loss: 0.5218 - accuracy: 0.8371\n",
            "Epoch 10/50\n",
            "1443/1443 [==============================] - 34s 24ms/step - loss: 0.4862 - accuracy: 0.8420\n",
            "Epoch 11/50\n",
            "1443/1443 [==============================] - 34s 24ms/step - loss: 0.4631 - accuracy: 0.8565\n",
            "Epoch 12/50\n",
            "1443/1443 [==============================] - 34s 24ms/step - loss: 0.3760 - accuracy: 0.8857\n",
            "Epoch 13/50\n",
            "1443/1443 [==============================] - 34s 24ms/step - loss: 0.3340 - accuracy: 0.9078\n",
            "Epoch 14/50\n",
            "1443/1443 [==============================] - 34s 23ms/step - loss: 0.3221 - accuracy: 0.9078\n",
            "Epoch 15/50\n",
            "1443/1443 [==============================] - 34s 24ms/step - loss: 0.2904 - accuracy: 0.9106\n",
            "Epoch 16/50\n",
            "1443/1443 [==============================] - 34s 24ms/step - loss: 0.2511 - accuracy: 0.9272\n",
            "Epoch 17/50\n",
            "1443/1443 [==============================] - 34s 24ms/step - loss: 0.2244 - accuracy: 0.9356\n",
            "Epoch 18/50\n",
            "1443/1443 [==============================] - 34s 24ms/step - loss: 0.1934 - accuracy: 0.9459\n",
            "Epoch 19/50\n",
            "1443/1443 [==============================] - 34s 24ms/step - loss: 0.1641 - accuracy: 0.9563\n",
            "Epoch 20/50\n",
            "1443/1443 [==============================] - 34s 24ms/step - loss: 0.1444 - accuracy: 0.9702\n",
            "Epoch 21/50\n",
            "1443/1443 [==============================] - 34s 24ms/step - loss: 0.1202 - accuracy: 0.9702\n",
            "Epoch 22/50\n",
            "1443/1443 [==============================] - 34s 24ms/step - loss: 0.1135 - accuracy: 0.9723\n",
            "Epoch 23/50\n",
            "1443/1443 [==============================] - 34s 24ms/step - loss: 0.1175 - accuracy: 0.9647\n",
            "Epoch 24/50\n",
            "1443/1443 [==============================] - 34s 24ms/step - loss: 0.0936 - accuracy: 0.9757\n",
            "Epoch 25/50\n",
            "1443/1443 [==============================] - 38s 27ms/step - loss: 0.0741 - accuracy: 0.9889\n",
            "Epoch 26/50\n",
            "1443/1443 [==============================] - 34s 24ms/step - loss: 0.0581 - accuracy: 0.9896\n",
            "Epoch 27/50\n",
            "1443/1443 [==============================] - 34s 24ms/step - loss: 0.0490 - accuracy: 0.9951\n",
            "Epoch 28/50\n",
            "1443/1443 [==============================] - 34s 24ms/step - loss: 0.0411 - accuracy: 0.9945\n",
            "Epoch 29/50\n",
            "1443/1443 [==============================] - 35s 24ms/step - loss: 0.0341 - accuracy: 0.9958\n",
            "Epoch 30/50\n",
            "1443/1443 [==============================] - 35s 24ms/step - loss: 0.0344 - accuracy: 0.9938\n",
            "Epoch 31/50\n",
            "1443/1443 [==============================] - 35s 24ms/step - loss: 0.0250 - accuracy: 0.9986\n",
            "Epoch 32/50\n",
            "1443/1443 [==============================] - 34s 24ms/step - loss: 0.0213 - accuracy: 0.9979\n",
            "Epoch 33/50\n",
            "1443/1443 [==============================] - 34s 24ms/step - loss: 0.0160 - accuracy: 1.0000\n",
            "Epoch 34/50\n",
            "1443/1443 [==============================] - 34s 24ms/step - loss: 0.0125 - accuracy: 1.0000\n",
            "Epoch 35/50\n",
            "1443/1443 [==============================] - 34s 24ms/step - loss: 0.0105 - accuracy: 1.0000\n",
            "Epoch 36/50\n",
            "1443/1443 [==============================] - 34s 24ms/step - loss: 0.0090 - accuracy: 1.0000\n",
            "Epoch 37/50\n",
            "1443/1443 [==============================] - 34s 24ms/step - loss: 0.0084 - accuracy: 1.0000\n",
            "Epoch 38/50\n",
            "1443/1443 [==============================] - 34s 24ms/step - loss: 0.0067 - accuracy: 1.0000\n",
            "Epoch 39/50\n",
            "1443/1443 [==============================] - 34s 24ms/step - loss: 0.0062 - accuracy: 1.0000\n",
            "Epoch 40/50\n",
            "1443/1443 [==============================] - 34s 24ms/step - loss: 0.0059 - accuracy: 1.0000\n",
            "Epoch 41/50\n",
            "1443/1443 [==============================] - 34s 24ms/step - loss: 0.0056 - accuracy: 1.0000\n",
            "Epoch 42/50\n",
            "1443/1443 [==============================] - 39s 27ms/step - loss: 0.0048 - accuracy: 1.0000\n",
            "Epoch 43/50\n",
            "1443/1443 [==============================] - 34s 24ms/step - loss: 0.0046 - accuracy: 1.0000\n",
            "Epoch 44/50\n",
            "1443/1443 [==============================] - 34s 24ms/step - loss: 0.0043 - accuracy: 1.0000\n",
            "Epoch 45/50\n",
            "1443/1443 [==============================] - 35s 24ms/step - loss: 0.0038 - accuracy: 1.0000\n",
            "Epoch 46/50\n",
            "1443/1443 [==============================] - 34s 24ms/step - loss: 0.0037 - accuracy: 1.0000\n",
            "Epoch 47/50\n",
            "1443/1443 [==============================] - 34s 24ms/step - loss: 0.0031 - accuracy: 1.0000\n",
            "Epoch 48/50\n",
            "1443/1443 [==============================] - 34s 24ms/step - loss: 0.0031 - accuracy: 1.0000\n",
            "Epoch 49/50\n",
            "1443/1443 [==============================] - 34s 24ms/step - loss: 0.0030 - accuracy: 1.0000\n",
            "Epoch 50/50\n",
            "1443/1443 [==============================] - 34s 24ms/step - loss: 0.0029 - accuracy: 1.0000\n"
          ],
          "name": "stdout"
        },
        {
          "output_type": "display_data",
          "data": {
            "image/png": "[encoded data removed]",
            "text/plain": [
              "<Figure size 432x288 with 1 Axes>"
            ]
          },
          "metadata": {
            "tags": [],
            "needs_background": "light"
          }
        }
      ]
    },
    {
      "cell_type": "code",
      "metadata": {
        "id": "Xun7HwHJ_zrz",
        "colab_type": "code",
        "colab": {
          "base_uri": "https://localhost:8080/",
          "height": 51
        },
        "outputId": "5a439dab-20fd-4c46-aca5-5e37f1183108"
      },
      "source": [
        "score = model.evaluate(x_test,y_test,verbose=0)\n",
        "print('test loss: ',score[0])\n",
        "print('test accuracy: ',score[1])"
      ],
      "execution_count": 32,
      "outputs": [
        {
          "output_type": "stream",
          "text": [
            "test loss:  0.5291094831965851\n",
            "test accuracy:  0.8933764100074768\n"
          ],
          "name": "stdout"
        }
      ]
    },
    {
      "cell_type": "code",
      "metadata": {
        "id": "oH2lJkjmKhqe",
        "colab_type": "code",
        "colab": {}
      },
      "source": [
        "\n",
        "#change the data set ration\n",
        "\n",
        "#spliting data in to train and test\n",
        "x_train, x_test, y_train, y_test= train_test_split(X,Y,test_size=0.2)\n",
        "x_train=x_train.reshape(x_train.shape[0],img_x,img_y,1)\n",
        "x_test=x_test.reshape(x_test.shape[0],img_x,img_y,1)\n",
        "input_shape=(img_x,img_y,1)"
      ],
      "execution_count": 0,
      "outputs": []
    },
    {
      "cell_type": "code",
      "metadata": {
        "id": "1e3PsvDTI36E",
        "colab_type": "code",
        "colab": {
          "base_uri": "https://localhost:8080/",
          "height": 1000
        },
        "outputId": "ce4fa15f-ecdd-421d-da36-617597591753"
      },
      "source": [
        "model = Sequential()\n",
        "model.add(Conv2D(32,kernel_size=(3,3),padding='same',activation='relu',input_shape=(64,64,1)))\n",
        "model.add(MaxPooling2D((2,2)))\n",
        "model.add(Conv2D(64,(3,3),activation='relu'))\n",
        "model.add(MaxPooling2D(pool_size=(2,2)))\n",
        "model.add(Conv2D(128,(5,5),activation='relu'))\n",
        "model.add(MaxPooling2D(pool_size=(2,2)))\n",
        "model.add(Flatten())\n",
        "model.add(Dense(128,activation='relu'))\n",
        "model.add(Dense(64,activation='relu'))\n",
        "model.add(Dense(10,activation='softmax'))\n",
        "model.compile(loss='categorical_crossentropy',optimizer='adam',metrics=['accuracy'])\n",
        "history=  model.fit(x_train,y_train,batch_size=128,epochs=50,verbose=1)\n"
      ],
      "execution_count": 7,
      "outputs": [
        {
          "output_type": "stream",
          "text": [
            "Epoch 1/50\n",
            "1649/1649 [==============================] - 13s 8ms/step - loss: 2.3043 - accuracy: 0.1134\n",
            "Epoch 2/50\n",
            "1649/1649 [==============================] - 13s 8ms/step - loss: 2.2555 - accuracy: 0.1649\n",
            "Epoch 3/50\n",
            "1649/1649 [==============================] - 13s 8ms/step - loss: 1.7760 - accuracy: 0.4178\n",
            "Epoch 4/50\n",
            "1649/1649 [==============================] - 13s 8ms/step - loss: 1.0838 - accuracy: 0.6543\n",
            "Epoch 5/50\n",
            "1649/1649 [==============================] - 13s 8ms/step - loss: 0.7629 - accuracy: 0.7647\n",
            "Epoch 6/50\n",
            "1649/1649 [==============================] - 13s 8ms/step - loss: 0.6022 - accuracy: 0.8102\n",
            "Epoch 7/50\n",
            "1649/1649 [==============================] - 13s 8ms/step - loss: 0.4996 - accuracy: 0.8381\n",
            "Epoch 8/50\n",
            "1649/1649 [==============================] - 13s 8ms/step - loss: 0.4107 - accuracy: 0.8690\n",
            "Epoch 9/50\n",
            "1649/1649 [==============================] - 13s 8ms/step - loss: 0.3358 - accuracy: 0.8914\n",
            "Epoch 10/50\n",
            "1649/1649 [==============================] - 13s 8ms/step - loss: 0.2762 - accuracy: 0.9102\n",
            "Epoch 11/50\n",
            "1649/1649 [==============================] - 13s 8ms/step - loss: 0.2272 - accuracy: 0.9254\n",
            "Epoch 12/50\n",
            "1649/1649 [==============================] - 13s 8ms/step - loss: 0.1703 - accuracy: 0.9491\n",
            "Epoch 13/50\n",
            "1649/1649 [==============================] - 13s 8ms/step - loss: 0.1284 - accuracy: 0.9673\n",
            "Epoch 14/50\n",
            "1649/1649 [==============================] - 13s 8ms/step - loss: 0.1090 - accuracy: 0.9685\n",
            "Epoch 15/50\n",
            "1649/1649 [==============================] - 13s 8ms/step - loss: 0.0890 - accuracy: 0.9782\n",
            "Epoch 16/50\n",
            "1649/1649 [==============================] - 13s 8ms/step - loss: 0.0751 - accuracy: 0.9800\n",
            "Epoch 17/50\n",
            "1649/1649 [==============================] - 13s 8ms/step - loss: 0.0711 - accuracy: 0.9806\n",
            "Epoch 18/50\n",
            "1649/1649 [==============================] - 13s 8ms/step - loss: 0.0573 - accuracy: 0.9873\n",
            "Epoch 19/50\n",
            "1649/1649 [==============================] - 13s 8ms/step - loss: 0.0412 - accuracy: 0.9891\n",
            "Epoch 20/50\n",
            "1649/1649 [==============================] - 13s 8ms/step - loss: 0.0345 - accuracy: 0.9951\n",
            "Epoch 21/50\n",
            "1649/1649 [==============================] - 13s 8ms/step - loss: 0.0270 - accuracy: 0.9951\n",
            "Epoch 22/50\n",
            "1649/1649 [==============================] - 13s 8ms/step - loss: 0.0198 - accuracy: 0.9976\n",
            "Epoch 23/50\n",
            "1649/1649 [==============================] - 13s 8ms/step - loss: 0.0131 - accuracy: 1.0000\n",
            "Epoch 24/50\n",
            "1649/1649 [==============================] - 13s 8ms/step - loss: 0.0092 - accuracy: 0.9994\n",
            "Epoch 25/50\n",
            "1649/1649 [==============================] - 13s 8ms/step - loss: 0.0076 - accuracy: 0.9994\n",
            "Epoch 26/50\n",
            "1649/1649 [==============================] - 13s 8ms/step - loss: 0.0070 - accuracy: 1.0000\n",
            "Epoch 27/50\n",
            "1649/1649 [==============================] - 13s 8ms/step - loss: 0.0043 - accuracy: 1.0000\n",
            "Epoch 28/50\n",
            "1649/1649 [==============================] - 13s 8ms/step - loss: 0.0034 - accuracy: 1.0000\n",
            "Epoch 29/50\n",
            "1649/1649 [==============================] - 13s 8ms/step - loss: 0.0031 - accuracy: 1.0000\n",
            "Epoch 30/50\n",
            "1649/1649 [==============================] - 13s 8ms/step - loss: 0.0024 - accuracy: 1.0000\n",
            "Epoch 31/50\n",
            "1649/1649 [==============================] - 13s 8ms/step - loss: 0.0021 - accuracy: 1.0000\n",
            "Epoch 32/50\n",
            "1649/1649 [==============================] - 13s 8ms/step - loss: 0.0018 - accuracy: 1.0000\n",
            "Epoch 33/50\n",
            "1649/1649 [==============================] - 13s 8ms/step - loss: 0.0017 - accuracy: 1.0000\n",
            "Epoch 34/50\n",
            "1649/1649 [==============================] - 13s 8ms/step - loss: 0.0017 - accuracy: 1.0000\n",
            "Epoch 35/50\n",
            "1649/1649 [==============================] - 13s 8ms/step - loss: 0.0015 - accuracy: 1.0000\n",
            "Epoch 36/50\n",
            "1649/1649 [==============================] - 13s 8ms/step - loss: 0.0014 - accuracy: 1.0000\n",
            "Epoch 37/50\n",
            "1649/1649 [==============================] - 13s 8ms/step - loss: 0.0012 - accuracy: 1.0000\n",
            "Epoch 38/50\n",
            "1649/1649 [==============================] - 13s 8ms/step - loss: 0.0012 - accuracy: 1.0000\n",
            "Epoch 39/50\n",
            "1649/1649 [==============================] - 13s 8ms/step - loss: 0.0011 - accuracy: 1.0000\n",
            "Epoch 40/50\n",
            "1649/1649 [==============================] - 13s 8ms/step - loss: 0.0010 - accuracy: 1.0000\n",
            "Epoch 41/50\n",
            "1649/1649 [==============================] - 13s 8ms/step - loss: 9.4862e-04 - accuracy: 1.0000\n",
            "Epoch 42/50\n",
            "1649/1649 [==============================] - 13s 8ms/step - loss: 8.8963e-04 - accuracy: 1.0000\n",
            "Epoch 43/50\n",
            "1649/1649 [==============================] - 13s 8ms/step - loss: 8.6733e-04 - accuracy: 1.0000\n",
            "Epoch 44/50\n",
            "1649/1649 [==============================] - 13s 8ms/step - loss: 8.1585e-04 - accuracy: 1.0000\n",
            "Epoch 45/50\n",
            "1649/1649 [==============================] - 13s 8ms/step - loss: 7.4305e-04 - accuracy: 1.0000\n",
            "Epoch 46/50\n",
            "1649/1649 [==============================] - 13s 8ms/step - loss: 7.0442e-04 - accuracy: 1.0000\n",
            "Epoch 47/50\n",
            "1649/1649 [==============================] - 13s 8ms/step - loss: 6.6398e-04 - accuracy: 1.0000\n",
            "Epoch 48/50\n",
            "1649/1649 [==============================] - 13s 8ms/step - loss: 6.3221e-04 - accuracy: 1.0000\n",
            "Epoch 49/50\n",
            "1649/1649 [==============================] - 13s 8ms/step - loss: 5.8574e-04 - accuracy: 1.0000\n",
            "Epoch 50/50\n",
            "1649/1649 [==============================] - 13s 8ms/step - loss: 5.6460e-04 - accuracy: 1.0000\n"
          ],
          "name": "stdout"
        }
      ]
    },
    {
      "cell_type": "code",
      "metadata": {
        "id": "HeGzGIcILFoB",
        "colab_type": "code",
        "colab": {
          "base_uri": "https://localhost:8080/",
          "height": 295
        },
        "outputId": "326a0d6c-7c09-4426-8185-0564bd1f2342"
      },
      "source": [
        "plt.plot(history.history['accuracy'])\n",
        "plt.plot(history.history['loss'])\n",
        "plt.title('model accuracy and loss')\n",
        "plt.xlabel('Epoch')\n",
        "plt.ylabel('accuracy/loss')\n",
        "plt.legend(['accuracy','loss'], loc='upper left')\n",
        "plt.show()"
      ],
      "execution_count": 8,
      "outputs": [
        {
          "output_type": "display_data",
          "data": {
            "image/png": "[encoded data removed]",
            "text/plain": [
              "<Figure size 432x288 with 1 Axes>"
            ]
          },
          "metadata": {
            "tags": [],
            "needs_background": "light"
          }
        }
      ]
    },
    {
      "cell_type": "code",
      "metadata": {
        "id": "2vtYaxWjqfqz",
        "colab_type": "code",
        "colab": {
          "base_uri": "https://localhost:8080/",
          "height": 51
        },
        "outputId": "70c5326e-ba14-43b3-d1e9-15e6b4abca19"
      },
      "source": [
        "score = model.evaluate(x_test,y_test,verbose=0)\n",
        "print('test loss: ',score[0])\n",
        "print('test accuracy: ',score[1])"
      ],
      "execution_count": 9,
      "outputs": [
        {
          "output_type": "stream",
          "text": [
            "test loss:  0.3906157657540162\n",
            "test accuracy:  0.9322034120559692\n"
          ],
          "name": "stdout"
        }
      ]
    },
    {
      "cell_type": "code",
      "metadata": {
        "id": "Cnn2GDV9q1X7",
        "colab_type": "code",
        "colab": {
          "base_uri": "https://localhost:8080/",
          "height": 51
        },
        "outputId": "a21e3506-eaad-4040-db25-f349f7e33e87"
      },
      "source": [
        "print(history.history.keys())\n",
        "print(score)"
      ],
      "execution_count": 13,
      "outputs": [
        {
          "output_type": "stream",
          "text": [
            "dict_keys(['loss', 'accuracy'])\n",
            "[0.3906157657540162, 0.9322034120559692]\n"
          ],
          "name": "stdout"
        }
      ]
    },
    {
      "cell_type": "code",
      "metadata": {
        "id": "T6SD4E5GtBKo",
        "colab_type": "code",
        "colab": {
          "base_uri": "https://localhost:8080/",
          "height": 1000
        },
        "outputId": "40056729-3b6a-441f-f522-6ab6d8e52114"
      },
      "source": [
        "model = Sequential()\n",
        "model.add(Conv2D(16,kernel_size=(3,3),padding='same',activation='relu',input_shape=(64,64,1)))\n",
        "model.add(MaxPooling2D((2,2)))\n",
        "model.add(Conv2D(32,(3,3),activation='relu'))\n",
        "model.add(MaxPooling2D(pool_size=(2,2)))\n",
        "model.add(Conv2D(64,(3,3),activation='relu'))\n",
        "model.add(MaxPooling2D(pool_size=(2,2)))\n",
        "model.add(Flatten())\n",
        "model.add(Dense(128,activation='relu'))\n",
        "model.add(Dense(64,activation='relu'))\n",
        "model.add(Dense(10,activation='softmax'))\n",
        "model.compile(loss='categorical_crossentropy',optimizer='adam',metrics=['accuracy'])\n",
        "history=  model.fit(x_train,y_train,batch_size=128,epochs=50,verbose=1)"
      ],
      "execution_count": 14,
      "outputs": [
        {
          "output_type": "stream",
          "text": [
            "Epoch 1/50\n",
            "1649/1649 [==============================] - 5s 3ms/step - loss: 2.3038 - accuracy: 0.0934\n",
            "Epoch 2/50\n",
            "1649/1649 [==============================] - 5s 3ms/step - loss: 2.2637 - accuracy: 0.2317\n",
            "Epoch 3/50\n",
            "1649/1649 [==============================] - 5s 3ms/step - loss: 2.0070 - accuracy: 0.3766\n",
            "Epoch 4/50\n",
            "1649/1649 [==============================] - 5s 3ms/step - loss: 1.3842 - accuracy: 0.5834\n",
            "Epoch 5/50\n",
            "1649/1649 [==============================] - 5s 3ms/step - loss: 0.9279 - accuracy: 0.6859\n",
            "Epoch 6/50\n",
            "1649/1649 [==============================] - 5s 3ms/step - loss: 0.7012 - accuracy: 0.7641\n",
            "Epoch 7/50\n",
            "1649/1649 [==============================] - 5s 3ms/step - loss: 0.5889 - accuracy: 0.8047\n",
            "Epoch 8/50\n",
            "1649/1649 [==============================] - 5s 3ms/step - loss: 0.5259 - accuracy: 0.8290\n",
            "Epoch 9/50\n",
            "1649/1649 [==============================] - 5s 3ms/step - loss: 0.4994 - accuracy: 0.8375\n",
            "Epoch 10/50\n",
            "1649/1649 [==============================] - 5s 3ms/step - loss: 0.4301 - accuracy: 0.8636\n",
            "Epoch 11/50\n",
            "1649/1649 [==============================] - 5s 3ms/step - loss: 0.3788 - accuracy: 0.8860\n",
            "Epoch 12/50\n",
            "1649/1649 [==============================] - 5s 3ms/step - loss: 0.3292 - accuracy: 0.8951\n",
            "Epoch 13/50\n",
            "1649/1649 [==============================] - 5s 3ms/step - loss: 0.2727 - accuracy: 0.9163\n",
            "Epoch 14/50\n",
            "1649/1649 [==============================] - 5s 3ms/step - loss: 0.2535 - accuracy: 0.9193\n",
            "Epoch 15/50\n",
            "1649/1649 [==============================] - 5s 3ms/step - loss: 0.2283 - accuracy: 0.9278\n",
            "Epoch 16/50\n",
            "1649/1649 [==============================] - 5s 3ms/step - loss: 0.2017 - accuracy: 0.9363\n",
            "Epoch 17/50\n",
            "1649/1649 [==============================] - 5s 3ms/step - loss: 0.1527 - accuracy: 0.9606\n",
            "Epoch 18/50\n",
            "1649/1649 [==============================] - 5s 3ms/step - loss: 0.1405 - accuracy: 0.9606\n",
            "Epoch 19/50\n",
            "1649/1649 [==============================] - 5s 3ms/step - loss: 0.1227 - accuracy: 0.9685\n",
            "Epoch 20/50\n",
            "1649/1649 [==============================] - 5s 3ms/step - loss: 0.1117 - accuracy: 0.9757\n",
            "Epoch 21/50\n",
            "1649/1649 [==============================] - 5s 3ms/step - loss: 0.0883 - accuracy: 0.9812\n",
            "Epoch 22/50\n",
            "1649/1649 [==============================] - 5s 3ms/step - loss: 0.0757 - accuracy: 0.9873\n",
            "Epoch 23/50\n",
            "1649/1649 [==============================] - 5s 3ms/step - loss: 0.0670 - accuracy: 0.9903\n",
            "Epoch 24/50\n",
            "1649/1649 [==============================] - 5s 3ms/step - loss: 0.0668 - accuracy: 0.9848\n",
            "Epoch 25/50\n",
            "1649/1649 [==============================] - 5s 3ms/step - loss: 0.0506 - accuracy: 0.9903\n",
            "Epoch 26/50\n",
            "1649/1649 [==============================] - 5s 3ms/step - loss: 0.0466 - accuracy: 0.9915\n",
            "Epoch 27/50\n",
            "1649/1649 [==============================] - 5s 3ms/step - loss: 0.0398 - accuracy: 0.9951\n",
            "Epoch 28/50\n",
            "1649/1649 [==============================] - 5s 3ms/step - loss: 0.0393 - accuracy: 0.9945\n",
            "Epoch 29/50\n",
            "1649/1649 [==============================] - 5s 3ms/step - loss: 0.0335 - accuracy: 0.9945\n",
            "Epoch 30/50\n",
            "1649/1649 [==============================] - 5s 3ms/step - loss: 0.0298 - accuracy: 0.9964\n",
            "Epoch 31/50\n",
            "1649/1649 [==============================] - 5s 3ms/step - loss: 0.0232 - accuracy: 0.9982\n",
            "Epoch 32/50\n",
            "1649/1649 [==============================] - 5s 3ms/step - loss: 0.0197 - accuracy: 0.9982\n",
            "Epoch 33/50\n",
            "1649/1649 [==============================] - 5s 3ms/step - loss: 0.0165 - accuracy: 0.9988\n",
            "Epoch 34/50\n",
            "1649/1649 [==============================] - 5s 3ms/step - loss: 0.0146 - accuracy: 0.9994\n",
            "Epoch 35/50\n",
            "1649/1649 [==============================] - 5s 3ms/step - loss: 0.0125 - accuracy: 0.9994\n",
            "Epoch 36/50\n",
            "1649/1649 [==============================] - 5s 3ms/step - loss: 0.0102 - accuracy: 0.9994\n",
            "Epoch 37/50\n",
            "1649/1649 [==============================] - 5s 3ms/step - loss: 0.0080 - accuracy: 0.9994\n",
            "Epoch 38/50\n",
            "1649/1649 [==============================] - 5s 3ms/step - loss: 0.0067 - accuracy: 1.0000\n",
            "Epoch 39/50\n",
            "1649/1649 [==============================] - 5s 3ms/step - loss: 0.0056 - accuracy: 0.9994\n",
            "Epoch 40/50\n",
            "1649/1649 [==============================] - 5s 3ms/step - loss: 0.0046 - accuracy: 1.0000\n",
            "Epoch 41/50\n",
            "1649/1649 [==============================] - 5s 3ms/step - loss: 0.0040 - accuracy: 1.0000\n",
            "Epoch 42/50\n",
            "1649/1649 [==============================] - 5s 3ms/step - loss: 0.0036 - accuracy: 1.0000\n",
            "Epoch 43/50\n",
            "1649/1649 [==============================] - 5s 3ms/step - loss: 0.0033 - accuracy: 1.0000\n",
            "Epoch 44/50\n",
            "1649/1649 [==============================] - 5s 3ms/step - loss: 0.0028 - accuracy: 1.0000\n",
            "Epoch 45/50\n",
            "1649/1649 [==============================] - 5s 3ms/step - loss: 0.0027 - accuracy: 1.0000\n",
            "Epoch 46/50\n",
            "1649/1649 [==============================] - 5s 3ms/step - loss: 0.0025 - accuracy: 1.0000\n",
            "Epoch 47/50\n",
            "1649/1649 [==============================] - 5s 3ms/step - loss: 0.0022 - accuracy: 1.0000\n",
            "Epoch 48/50\n",
            "1649/1649 [==============================] - 5s 3ms/step - loss: 0.0022 - accuracy: 1.0000\n",
            "Epoch 49/50\n",
            "1649/1649 [==============================] - 5s 3ms/step - loss: 0.0020 - accuracy: 1.0000\n",
            "Epoch 50/50\n",
            "1649/1649 [==============================] - 5s 3ms/step - loss: 0.0018 - accuracy: 1.0000\n"
          ],
          "name": "stdout"
        }
      ]
    },
    {
      "cell_type": "code",
      "metadata": {
        "id": "w3-zHWYQvBHf",
        "colab_type": "code",
        "colab": {
          "base_uri": "https://localhost:8080/",
          "height": 329
        },
        "outputId": "6927a053-09fc-4a6e-fa72-c9c6095fccec"
      },
      "source": [
        "plt.plot(history.history['accuracy'])\n",
        "plt.plot(history.history['loss'])\n",
        "plt.title('model accuracy and loss')\n",
        "plt.xlabel('Epoch')\n",
        "plt.ylabel('accuracy/loss')\n",
        "plt.legend(['accuracy','loss'], loc='upper left')\n",
        "plt.show()\n",
        "\n",
        "score2 = model.evaluate(x_test,y_test,verbose=0)\n",
        "print('test loss: ',score2[0])\n",
        "print('test accuracy: ',score2[1])"
      ],
      "execution_count": 15,
      "outputs": [
        {
          "output_type": "display_data",
          "data": {
            "image/png": "[encoded data removed]",
            "text/plain": [
              "<Figure size 432x288 with 1 Axes>"
            ]
          },
          "metadata": {
            "tags": [],
            "needs_background": "light"
          }
        },
        {
          "output_type": "stream",
          "text": [
            "test loss:  0.3822641077363462\n",
            "test accuracy:  0.9225181341171265\n"
          ],
          "name": "stdout"
        }
      ]
    }
  ]
}